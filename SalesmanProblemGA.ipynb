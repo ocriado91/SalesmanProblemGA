{
  "cells": [
    {
      "cell_type": "markdown",
      "metadata": {
        "id": "view-in-github",
        "colab_type": "text"
      },
      "source": [
        "<a href=\"https://colab.research.google.com/github/ocriado91/SalesmanProblemGA/blob/1-create-google-colab-notebook-with-code-and-introduction-to-ga/SalesmanProblemGA.ipynb\" target=\"_parent\"><img src=\"https://colab.research.google.com/assets/colab-badge.svg\" alt=\"Open In Colab\"/></a>"
      ]
    },
    {
      "cell_type": "markdown",
      "metadata": {
        "id": "sX_dmgaLAHrH"
      },
      "source": [
        "# Salesman Problem using Genetic Algorithms\n",
        "\n",
        "<p align=\"center\">\n",
        "<img width=200px src=\"https://drive.google.com/uc?export=view&id=1PFCZg_MfegudSuZ9foSByELWZT9aBwlq\">\n",
        "</p>\n",
        "\n",
        "In this notebook, we are going to resolve the _Salesman Problem_ using _Genetic Algorithms_ explaining step to step each stage of the algorithm and a brief introduction to the _Genetic Algorithms_\n",
        "\n"
      ]
    },
    {
      "cell_type": "markdown",
      "metadata": {
        "id": "Q3ETIc25Ho8B"
      },
      "source": [
        "## The Traveling Salesman Problem (TSP)\n",
        "\n",
        "This is a classic problem in computer science and mathematics. It asks the question: given a list of cities and the distances between each pair of cities, what is the shortest possible route that visits each city exactly once and returns to the origin city?\n",
        "\n",
        "Imagine a salesperson who needs to visit a bunch of cities to make sales. They want to find the most efficient route that allows them to visit every city exactly once and get back to their starting point, minimizing travel time or distance. This is the essence of the TSP."
      ]
    },
    {
      "cell_type": "markdown",
      "metadata": {
        "id": "q7FpUnPjGaSO"
      },
      "source": [
        "## Introduction to Genetic Algorithms\n",
        "\n",
        "A _Genetic Algorithm_ (GA) is a search heuristic that is inspired by Charles Darwin's theory of natural selection where the fittest individuals are selected for reprduction in order to produce offspring of the next generation. If the parents are the fittest from a set of individuals, they are going to produce offspring which inherit their characteristics and will be added to the next generation and their offspring will be better chance of surviving."
      ]
    },
    {
      "cell_type": "markdown",
      "metadata": {
        "id": "0-_CDdVSGrY4"
      },
      "source": [
        "## Hands-on\n"
      ]
    },
    {
      "cell_type": "markdown",
      "metadata": {
        "id": "VwecpW9dJ8zj"
      },
      "source": [
        "### Imports"
      ]
    },
    {
      "cell_type": "code",
      "execution_count": null,
      "metadata": {
        "id": "j3Lq6zCiJpZv"
      },
      "outputs": [],
      "source": [
        "import random\n",
        "import matplotlib.pyplot as plt"
      ]
    },
    {
      "cell_type": "markdown",
      "metadata": {
        "id": "p_fqlFXUK9qV"
      },
      "source": [
        "### Constants"
      ]
    },
    {
      "cell_type": "code",
      "execution_count": null,
      "metadata": {
        "id": "tG3_YCUnLABu"
      },
      "outputs": [],
      "source": [
        "POPULATION_SIZE = 10\n",
        "MUTATION_RATE = 0.01\n",
        "NUM_GENERATIONS = 2"
      ]
    },
    {
      "cell_type": "markdown",
      "metadata": {
        "id": "26cZHXVWKB3F"
      },
      "source": [
        "### City class\n",
        "\n",
        "The first step is to create a __City__ class with coordinates (X,Y) where our Travelling Salesman must be visit. Also, we are going to create a couple of methods to compute the distance between the current city and another one, and a method to plot the city into a 2D plot:\n"
      ]
    },
    {
      "cell_type": "code",
      "execution_count": null,
      "metadata": {
        "id": "GSxVd6GsInX2"
      },
      "outputs": [],
      "source": [
        "class City:\n",
        "  '''\n",
        "  City to be visited from the Salesman\n",
        "  '''\n",
        "\n",
        "  def __init__(self, name, x_pos, y_pos):\n",
        "    self.name = name\n",
        "    self.x_pos = x_pos\n",
        "    self.y_pos = y_pos\n",
        "\n",
        "  def distance_to(self, another_city) -> float:\n",
        "    '''\n",
        "    Compute the cartesian distance between\n",
        "    the current city and another_city\n",
        "    '''\n",
        "\n",
        "    x_diff = abs(self.x_pos - another_city.x_pos)\n",
        "    y_diff = abs(self.y_pos - another_city.y_pos)\n",
        "    return (x_diff**2 + y_diff**2) ** 0.5\n",
        "\n",
        "  def plot_city(self):\n",
        "    '''\n",
        "    Plot the position of current city\n",
        "    into a 2D cartesian plot\n",
        "    '''\n",
        "\n",
        "    plt.scatter(self.x_pos, self.y_pos, label=self.name)\n"
      ]
    },
    {
      "cell_type": "markdown",
      "metadata": {
        "id": "5Z4h8xH4LPZJ"
      },
      "source": [
        "And now we can create the set of Cities where our Salesman must be to visit in her journey:\n"
      ]
    },
    {
      "cell_type": "code",
      "execution_count": 13,
      "metadata": {
        "id": "M0JtI1L0LZIH"
      },
      "outputs": [],
      "source": [
        "cities = [\n",
        "        City('A', 1, 1),\n",
        "        City('B', 1, 2),\n",
        "        City('C', 2, 3),\n",
        "        City('D', 3, -1),\n",
        "        City('E', 4, 5),\n",
        "        City('F', 3, 2),\n",
        "    ]"
      ]
    },
    {
      "cell_type": "markdown",
      "source": [
        "Also, we are going to create a plot with the trajectories performed for the Salesman:"
      ],
      "metadata": {
        "id": "DJ--vEaEIDpm"
      }
    },
    {
      "cell_type": "code",
      "source": [
        "def compute_trajectories(cities: list[City]) -> None:\n",
        "\n",
        "  for idx in range(len(cities)-1):\n",
        "    current_city = cities[idx]\n",
        "    next_city = cities[idx + 1]\n",
        "\n",
        "    plt.plot([current_city.x_pos, next_city.x_pos],\n",
        "             [current_city.y_pos, next_city.y_pos],\n",
        "             color=\"black\",\n",
        "             linestyle=\"--\")\n",
        "\n",
        "\n",
        "compute_trajectories(cities)"
      ],
      "metadata": {
        "id": "g6X8LTlhID_Z",
        "outputId": "dd520b6c-6258-4714-b004-e015df3478fa",
        "colab": {
          "base_uri": "https://localhost:8080/",
          "height": 430
        }
      },
      "execution_count": 24,
      "outputs": [
        {
          "output_type": "display_data",
          "data": {
            "text/plain": [
              "<Figure size 640x480 with 1 Axes>"
            ],
            "image/png": "[encoded data removed]"
          },
          "metadata": {}
        }
      ]
    },
    {
      "cell_type": "markdown",
      "metadata": {
        "id": "NejeS0YgKQzt"
      },
      "source": [
        "### Genetic Algorithm\n",
        "\n",
        "A _Genetic Algorithm_ is compound by five stages:\n"
      ]
    },
    {
      "cell_type": "markdown",
      "metadata": {
        "id": "iPmocNtPe9XF"
      },
      "source": [
        "#### 1. Initial population\n",
        "Genetic algorithms start with a random initial population:"
      ]
    },
    {
      "cell_type": "code",
      "execution_count": null,
      "metadata": {
        "id": "ZPqJgCZdK5fn"
      },
      "outputs": [],
      "source": [
        "def initial_population()-> list:\n",
        "  population = []\n",
        "  for _ in range(POPULATION_SIZE):\n",
        "    individual = random.sample(cities, len(cities))\n",
        "    population.append(individual)\n",
        "  return population\n",
        "\n",
        "# Call to the previous function\n",
        "population = initial_population()\n"
      ]
    },
    {
      "cell_type": "markdown",
      "metadata": {
        "id": "ZBzs_XYJNDhg"
      },
      "source": [
        "#### 2. Selection\n",
        "\n",
        "Selection is the process of choosing chromosomes to use as parents for the next generation based into a _fitness function_:"
      ]
    },
    {
      "cell_type": "code",
      "execution_count": null,
      "metadata": {
        "id": "ez_1L3qpNpdb"
      },
      "outputs": [],
      "source": [
        "def fitness_function(individual: list[City]) -> float:\n",
        "  '''\n",
        "  This function computes the fitness score within\n",
        "  an individual set of cities\n",
        "  '''\n",
        "  try:\n",
        "    total_distance = 0\n",
        "    for idy in range(len(individual)-1):\n",
        "      current_city = individual[idy]\n",
        "      next_city = individual[idy+1]\n",
        "      total_distance += current_city.distance_to(next_city)\n",
        "    score = 1/total_distance\n",
        "    return score\n",
        "  except ZeroDivisionError:\n",
        "    return 10000\n"
      ]
    },
    {
      "cell_type": "code",
      "execution_count": null,
      "metadata": {
        "id": "PdHunPBlNTnK"
      },
      "outputs": [],
      "source": [
        "def selection(population: list):\n",
        "  weights = []\n",
        "  for idx in range(len(population)):\n",
        "    individual = population[idx]\n",
        "    score = fitness_function(individual)\n",
        "    weights.append(score)\n",
        "\n",
        "  # Copy population variable into a new one\n",
        "  selection_population = population[:]\n",
        "  sample = []\n",
        "  for _ in range(2):\n",
        "    while True:\n",
        "      selected = random.choices(selection_population,\n",
        "                                weights=weights)[0]\n",
        "      # Detect duplicate city into selected set\n",
        "      if len(set(selected)) != len(selection_population[0]):\n",
        "        #print(\"Detected duplicated items:\", [x.name for x in selected])\n",
        "        continue\n",
        "\n",
        "      sample.append(selected)\n",
        "      # Remove selected parent from population\n",
        "      # and weights list\n",
        "      index = selection_population.index(selected)\n",
        "      selection_population.pop(index)\n",
        "      weights.pop(index)\n",
        "      break\n",
        "\n",
        "  parent1 = sample[0]\n",
        "  parent2 = sample[1]\n",
        "\n",
        "  return parent1, parent2\n",
        "\n",
        "parent1, parent2 = selection(population)"
      ]
    },
    {
      "cell_type": "markdown",
      "metadata": {
        "id": "_dTk9YYTV_HC"
      },
      "source": [
        "#### 3. Crossover\n",
        "\n",
        "Crossover combines the chromosomes of parents to form children. There are several crossover schemas, but for simplify, we are going to implement a random parent selection to avoid duplicated genes into the child:\n"
      ]
    },
    {
      "cell_type": "code",
      "execution_count": null,
      "metadata": {
        "id": "WjjpIZdkXrHV"
      },
      "outputs": [],
      "source": [
        "def crossover(parent1: list[City],\n",
        "              parent2: list[City]) -> list:\n",
        "  crossover_point = random.randint(0, len(parent1)-1)\n",
        "\n",
        "  if crossover_point % 2 == 0:\n",
        "    return parent1\n",
        "  else:\n",
        "    return parent2\n",
        "\n",
        "child = crossover(parent1, parent2)\n"
      ]
    },
    {
      "cell_type": "markdown",
      "metadata": {
        "id": "ROxApWSwZihg"
      },
      "source": [
        "#### 4. Mutation\n",
        "In childs were produced only through crossover, many traits that were not present in the initial random population could new occur. Mutation allows new traits to spontaneously appear, allowing the genetic algorithm to explore more of the state space:\n",
        "\n",
        "<p align=\"center\">\n",
        "<img src=\"https://drive.google.com/uc?export=view&id=1IA0xVlbVfmmvi9i3Ty8UfF8wqkLKEiSc\">\n",
        "</p>"
      ]
    },
    {
      "cell_type": "code",
      "execution_count": null,
      "metadata": {
        "colab": {
          "base_uri": "https://localhost:8080/"
        },
        "id": "BHhFbonZadLS",
        "outputId": "82144636-86c2-4873-b8fc-c4f87d23261c"
      },
      "outputs": [
        {
          "name": "stdout",
          "output_type": "stream",
          "text": [
            "Incoming child: ['E', 'F', 'A', 'C', 'B', 'D']\n",
            "Mutant child: ['E', 'F', 'A', 'C', 'B', 'D']\n"
          ]
        }
      ],
      "source": [
        "def mutation(child: list) -> list:\n",
        "  previous_child = child[:]\n",
        "  for idx in range(len(child)):\n",
        "    if random.random() < MUTATION_RATE:\n",
        "      mutant_index = random.randint(0, len(cities)-1)\n",
        "      child[idx] = previous_child[mutant_index]\n",
        "      child[mutant_index] = previous_child[idx]\n",
        "  return child\n",
        "\n",
        "print(\"Incoming child:\", [x.name for x in child])\n",
        "child = mutation(child)\n",
        "print(\"Mutant child:\", [x.name for x in child])"
      ]
    },
    {
      "cell_type": "markdown",
      "metadata": {
        "id": "5Vph_ExYfE1k"
      },
      "source": [
        "### Iterative process\n"
      ]
    },
    {
      "cell_type": "code",
      "execution_count": null,
      "metadata": {
        "id": "wI_pTrzdy_ia"
      },
      "outputs": [],
      "source": [
        "def compute_total_distance(cities: list[City]) -> float:\n",
        "  '''\n",
        "  Compute the total distance between cities\n",
        "  '''\n",
        "\n",
        "  total_distance = 0\n",
        "  for idx in range(len(cities)-1):\n",
        "    current_city = cities[idx]\n",
        "    next_city = cities[idx+1]\n",
        "    total_distance += current_city.distance_to(next_city)\n",
        "\n",
        "  return total_distance"
      ]
    },
    {
      "cell_type": "code",
      "execution_count": null,
      "metadata": {
        "colab": {
          "base_uri": "https://localhost:8080/"
        },
        "id": "Zsw4xKdffH0N",
        "outputId": "4ba3e6f7-0797-49a9-8b1c-89fd30a30e2a"
      },
      "outputs": [
        {
          "output_type": "stream",
          "name": "stdout",
          "text": [
            "Starting generation: 0\n",
            "+++++++++++++++++++++++++++++++++++++++++++\n",
            "Child after mutation: ['E', 'B', 'A', 'C', 'F', 'D']\n",
            "Fitness score:  0.08408362393309868\n",
            "Total distance:  11.89292222699217\n",
            "+++++++++++++++++++++++++++++++++++++++++++\n",
            "Child after mutation: ['D', 'A', 'B', 'C', 'E', 'F']\n",
            "Fitness score:  0.08902067531792422\n",
            "Total distance:  11.233345472033855\n",
            "+++++++++++++++++++++++++++++++++++++++++++\n",
            "Child after mutation: ['F', 'E', 'B', 'D', 'C', 'A']\n",
            "Fitness score:  0.05757170639582691\n",
            "Total distance:  17.369643225869105\n",
            "+++++++++++++++++++++++++++++++++++++++++++\n",
            "Child after mutation: ['E', 'B', 'D', 'A', 'F', 'C']\n",
            "Fitness score:  0.06979876709002292\n",
            "Total distance:  14.326900627202349\n",
            "+++++++++++++++++++++++++++++++++++++++++++\n",
            "Child after mutation: ['E', 'F', 'D', 'C', 'A', 'B']\n",
            "Fitness score:  0.0739565583995598\n",
            "Total distance:  13.52145126328583\n",
            "+++++++++++++++++++++++++++++++++++++++++++\n",
            "Child after mutation: ['D', 'B', 'E', 'A', 'C', 'F']\n",
            "Fitness score:  0.06061166809469544\n",
            "Total distance:  16.498473502456157\n",
            "+++++++++++++++++++++++++++++++++++++++++++\n",
            "Child after mutation: ['B', 'E', 'A', 'F', 'C', 'D']\n",
            "Fitness score:  0.05876812195312816\n",
            "Total distance:  17.01602785260983\n",
            "+++++++++++++++++++++++++++++++++++++++++++\n",
            "Child after mutation: ['E', 'C', 'A', 'B', 'F', 'D']\n",
            "Fitness score:  0.09037918050115185\n",
            "Total distance:  11.06449510224598\n",
            "+++++++++++++++++++++++++++++++++++++++++++\n",
            "Child after mutation: ['A', 'C', 'B', 'E', 'F', 'D']\n",
            "Fitness score:  0.07114804542292577\n",
            "Total distance:  14.05519988716055\n",
            "+++++++++++++++++++++++++++++++++++++++++++\n",
            "Child after mutation: ['C', 'E', 'D', 'F', 'B', 'A']\n",
            "Fitness score:  0.06706373020087657\n",
            "Total distance:  14.91118965504441\n",
            "+++++++++++++++++++++++++++++++++++++++++++\n",
            "Child after mutation: ['D', 'E', 'F', 'C', 'A', 'B']\n",
            "Fitness score:  0.07196666758831272\n",
            "Total distance:  13.895321730339484\n",
            "+++++++++++++++++++++++++++++++++++++++++++\n",
            "Child after mutation: ['B', 'E', 'F', 'D', 'C', 'A']\n",
            "Fitness score:  0.059651307267843665\n",
            "Total distance:  16.764091950405113\n",
            "+++++++++++++++++++++++++++++++++++++++++++\n",
            "Child after mutation: ['B', 'C', 'A', 'E', 'F', 'D']\n",
            "Fitness score:  0.06751027870978664\n",
            "Total distance:  14.812559200041266\n",
            "+++++++++++++++++++++++++++++++++++++++++++\n",
            "Child after mutation: ['E', 'B', 'C', 'A', 'F', 'D']\n",
            "Fitness score:  0.07616732013844138\n",
            "Total distance:  13.12899020449196\n",
            "+++++++++++++++++++++++++++++++++++++++++++\n",
            "Child after mutation: ['E', 'C', 'B', 'D', 'A', 'F']\n",
            "Fitness score:  0.07744321495436342\n",
            "Total distance:  12.912687064829255\n",
            "+++++++++++++++++++++++++++++++++++++++++++\n",
            "Child after mutation: ['D', 'E', 'C', 'F', 'A', 'B']\n",
            "Fitness score:  0.07373831243138208\n",
            "Total distance:  13.561471194917296\n",
            "+++++++++++++++++++++++++++++++++++++++++++\n",
            "Child after mutation: ['C', 'B', 'F', 'D', 'A', 'E']\n",
            "Fitness score:  0.07021169893756969\n",
            "Total distance:  14.242640687119286\n",
            "+++++++++++++++++++++++++++++++++++++++++++\n",
            "Child after mutation: ['D', 'C', 'B', 'E', 'F', 'A']\n",
            "Fitness score:  0.0658835071647574\n",
            "Total distance:  15.178305512778211\n",
            "+++++++++++++++++++++++++++++++++++++++++++\n",
            "Child after mutation: ['C', 'B', 'A', 'E', 'D', 'F']\n",
            "Fitness score:  0.06061716973962544\n",
            "Total distance:  16.496976092671314\n",
            "+++++++++++++++++++++++++++++++++++++++++++\n",
            "Child after mutation: ['F', 'D', 'C', 'E', 'A', 'B']\n",
            "Fitness score:  0.06268990044089588\n",
            "Total distance:  15.951532750363851\n",
            "+++++++++++++++++++++++++++++++++++++++++++\n",
            "Child after mutation: ['A', 'D', 'C', 'B', 'E', 'F']\n",
            "Fitness score:  0.06340886839949074\n",
            "Total distance:  15.770664660024613\n",
            "+++++++++++++++++++++++++++++++++++++++++++\n",
            "Child after mutation: ['E', 'C', 'F', 'A', 'D', 'B']\n",
            "Fitness score:  0.07744321495436342\n",
            "Total distance:  12.912687064829255\n",
            "+++++++++++++++++++++++++++++++++++++++++++\n",
            "Child after mutation: ['D', 'F', 'B', 'A', 'C', 'E']\n",
            "Fitness score:  0.09037918050115185\n",
            "Total distance:  11.06449510224598\n",
            "+++++++++++++++++++++++++++++++++++++++++++\n",
            "Child after mutation: ['D', 'E', 'F', 'C', 'A', 'B']\n",
            "Fitness score:  0.07196666758831272\n",
            "Total distance:  13.895321730339484\n",
            "+++++++++++++++++++++++++++++++++++++++++++\n",
            "Child after mutation: ['B', 'E', 'F', 'C', 'D', 'A']\n",
            "Fitness score:  0.06340886839949075\n",
            "Total distance:  15.77066466002461\n",
            "+++++++++++++++++++++++++++++++++++++++++++\n",
            "Child after mutation: ['C', 'A', 'E', 'F', 'B', 'D']\n",
            "Fitness score:  0.062484781389677654\n",
            "Total distance:  16.00389691313216\n",
            "+++++++++++++++++++++++++++++++++++++++++++\n",
            "Child after mutation: ['D', 'C', 'B', 'E', 'F', 'A']\n",
            "Fitness score:  0.0658835071647574\n",
            "Total distance:  15.178305512778211\n",
            "+++++++++++++++++++++++++++++++++++++++++++\n",
            "Child after mutation: ['D', 'B', 'E', 'F', 'A', 'C']\n",
            "Fitness score:  0.06458861171513773\n",
            "Total distance:  15.482605577751233\n",
            "+++++++++++++++++++++++++++++++++++++++++++\n",
            "Child after mutation: ['E', 'B', 'D', 'A', 'F', 'C']\n",
            "Fitness score:  0.06979876709002292\n",
            "Total distance:  14.326900627202349\n",
            "+++++++++++++++++++++++++++++++++++++++++++\n",
            "Child after mutation: ['F', 'E', 'B', 'A', 'C', 'D']\n",
            "Fitness score:  0.06773190002874244\n",
            "Total distance:  14.764091950405113\n",
            "+++++++++++++++++++++++++++++++++++++++++++\n",
            "Child after mutation: ['B', 'D', 'F', 'C', 'E', 'A']\n",
            "Fitness score:  0.06309868042745481\n",
            "Total distance:  15.848191962583275\n",
            "+++++++++++++++++++++++++++++++++++++++++++\n",
            "Child after mutation: ['D', 'E', 'C', 'A', 'F', 'B']\n",
            "Fitness score:  0.06500544975444619\n",
            "Total distance:  15.38332561004399\n",
            "+++++++++++++++++++++++++++++++++++++++++++\n",
            "Child after mutation: ['B', 'C', 'A', 'E', 'D', 'F']\n",
            "Fitness score:  0.05639189729878967\n",
            "Total distance:  17.733044070171104\n",
            "+++++++++++++++++++++++++++++++++++++++++++\n",
            "Child after mutation: ['F', 'A', 'B', 'E', 'C', 'D']\n",
            "Fitness score:  0.0692989099241056\n",
            "Total distance:  14.430241414982927\n",
            "+++++++++++++++++++++++++++++++++++++++++++\n",
            "Child after mutation: ['A', 'D', 'C', 'B', 'E', 'F']\n",
            "Fitness score:  0.06340886839949074\n",
            "Total distance:  15.770664660024613\n",
            "+++++++++++++++++++++++++++++++++++++++++++\n",
            "Child after mutation: ['B', 'A', 'F', 'C', 'E', 'D']\n",
            "Fitness score:  0.07373831243138208\n",
            "Total distance:  13.561471194917296\n",
            "+++++++++++++++++++++++++++++++++++++++++++\n",
            "Child after mutation: ['C', 'F', 'B', 'A', 'D', 'E']\n",
            "Fitness score:  0.07504463344815784\n",
            "Total distance:  13.325403217417506\n",
            "+++++++++++++++++++++++++++++++++++++++++++\n",
            "Child after mutation: ['E', 'C', 'A', 'B', 'F', 'D']\n",
            "Fitness score:  0.09037918050115185\n",
            "Total distance:  11.06449510224598\n",
            "+++++++++++++++++++++++++++++++++++++++++++\n",
            "Child after mutation: ['D', 'F', 'C', 'A', 'E', 'B']\n",
            "Fitness score:  0.06292109064131851\n",
            "Total distance:  15.89292222699217\n",
            "+++++++++++++++++++++++++++++++++++++++++++\n",
            "Child after mutation: ['D', 'F', 'E', 'C', 'A', 'B']\n",
            "Fitness score:  0.08178773086174008\n",
            "Total distance:  12.22677276241436\n",
            "+++++++++++++++++++++++++++++++++++++++++++\n",
            "Child after mutation: ['D', 'B', 'E', 'A', 'C', 'F']\n",
            "Fitness score:  0.06061166809469544\n",
            "Total distance:  16.498473502456157\n",
            "+++++++++++++++++++++++++++++++++++++++++++\n",
            "Child after mutation: ['F', 'D', 'C', 'E', 'A', 'B']\n",
            "Fitness score:  0.06268990044089588\n",
            "Total distance:  15.951532750363851\n",
            "+++++++++++++++++++++++++++++++++++++++++++\n",
            "Child after mutation: ['A', 'C', 'E', 'D', 'F', 'B']\n",
            "Fitness score:  0.06193002073519512\n",
            "Total distance:  16.1472576325442\n",
            "+++++++++++++++++++++++++++++++++++++++++++\n",
            "Child after mutation: ['D', 'F', 'B', 'A', 'C', 'E']\n",
            "Fitness score:  0.09037918050115185\n",
            "Total distance:  11.06449510224598\n",
            "+++++++++++++++++++++++++++++++++++++++++++\n",
            "Child after mutation: ['C', 'E', 'D', 'B', 'A', 'F']\n",
            "Fitness score:  0.06348074212286256\n",
            "Total distance:  15.75280890800819\n",
            "+++++++++++++++++++++++++++++++++++++++++++\n",
            "Child after mutation: ['C', 'D', 'F', 'E', 'B', 'A']\n",
            "Fitness score:  0.06439969449718064\n",
            "Total distance:  15.528023972905324\n",
            "+++++++++++++++++++++++++++++++++++++++++++\n",
            "Child after mutation: ['B', 'C', 'D', 'F', 'E', 'A']\n",
            "Fitness score:  0.05988168511446634\n",
            "Total distance:  16.699596848159135\n",
            "+++++++++++++++++++++++++++++++++++++++++++\n",
            "Child after mutation: ['D', 'F', 'E', 'B', 'C', 'A']\n",
            "Fitness score:  0.07114804542292577\n",
            "Total distance:  14.055199887160551\n",
            "+++++++++++++++++++++++++++++++++++++++++++\n",
            "Child after mutation: ['A', 'B', 'C', 'F', 'E', 'D']\n",
            "Fitness score:  0.07649080201060063\n",
            "Total distance:  13.073467315212788\n",
            "+++++++++++++++++++++++++++++++++++++++++++\n",
            "Child after mutation: ['A', 'E', 'C', 'D', 'B', 'F']\n",
            "Fitness score:  0.05695706636300891\n",
            "Total distance:  17.55708402582784\n",
            "+++++++++++++++++++++++++++++++++++++++++++\n",
            "Child after mutation: ['E', 'A', 'D', 'F', 'C', 'B']\n",
            "Fitness score:  0.0732233047033631\n",
            "Total distance:  13.656854249492381\n",
            "+++++++++++++++++++++++++++++++++++++++++++\n",
            "Child after mutation: ['D', 'F', 'E', 'B', 'C', 'A']\n",
            "Fitness score:  0.07114804542292577\n",
            "Total distance:  14.055199887160551\n",
            "+++++++++++++++++++++++++++++++++++++++++++\n",
            "Child after mutation: ['E', 'B', 'C', 'A', 'F', 'D']\n",
            "Fitness score:  0.07616732013844138\n",
            "Total distance:  13.12899020449196\n",
            "+++++++++++++++++++++++++++++++++++++++++++\n",
            "Child after mutation: ['E', 'A', 'D', 'B', 'C', 'F']\n",
            "Fitness score:  0.07011439958359052\n",
            "Total distance:  14.262405524956371\n",
            "+++++++++++++++++++++++++++++++++++++++++++\n",
            "Child after mutation: ['D', 'E', 'F', 'C', 'A', 'B']\n",
            "Fitness score:  0.07196666758831272\n",
            "Total distance:  13.895321730339484\n",
            "+++++++++++++++++++++++++++++++++++++++++++\n",
            "Child after mutation: ['D', 'F', 'E', 'C', 'A', 'B']\n",
            "Fitness score:  0.08178773086174008\n",
            "Total distance:  12.22677276241436\n",
            "+++++++++++++++++++++++++++++++++++++++++++\n",
            "Child after mutation: ['F', 'D', 'A', 'C', 'B', 'E']\n",
            "Fitness score:  0.07287912976818929\n",
            "Total distance:  13.721349351738361\n",
            "+++++++++++++++++++++++++++++++++++++++++++\n",
            "Child after mutation: ['D', 'E', 'F', 'B', 'A', 'C']\n",
            "Fitness score:  0.06905548859942202\n",
            "Total distance:  14.481108167966388\n",
            "+++++++++++++++++++++++++++++++++++++++++++\n",
            "Child after mutation: ['E', 'A', 'F', 'D', 'B', 'C']\n",
            "Fitness score:  0.06554869944528284\n",
            "Total distance:  15.255832815336875\n",
            "+++++++++++++++++++++++++++++++++++++++++++\n",
            "Child after mutation: ['B', 'A', 'F', 'D', 'C', 'E']\n",
            "Fitness score:  0.07582880469584838\n",
            "Total distance:  13.187600727863641\n",
            "+++++++++++++++++++++++++++++++++++++++++++\n",
            "Child after mutation: ['B', 'E', 'F', 'D', 'A', 'C']\n",
            "Fitness score:  0.06464369210004837\n",
            "Total distance:  15.469413449533644\n",
            "+++++++++++++++++++++++++++++++++++++++++++\n",
            "Child after mutation: ['D', 'E', 'F', 'C', 'A', 'B']\n",
            "Fitness score:  0.07196666758831272\n",
            "Total distance:  13.895321730339484\n",
            "+++++++++++++++++++++++++++++++++++++++++++\n",
            "Child after mutation: ['B', 'D', 'A', 'F', 'E', 'C']\n",
            "Fitness score:  0.06820932903829342\n",
            "Total distance:  14.660751162624539\n",
            "+++++++++++++++++++++++++++++++++++++++++++\n",
            "Child after mutation: ['E', 'A', 'F', 'C', 'B', 'D']\n",
            "Fitness score:  0.07315264135684094\n",
            "Total distance:  13.670046377709971\n",
            "+++++++++++++++++++++++++++++++++++++++++++\n",
            "Child after mutation: ['C', 'F', 'D', 'B', 'E', 'A']\n",
            "Fitness score:  0.057929353968326935\n",
            "Total distance:  17.262405524956367\n",
            "+++++++++++++++++++++++++++++++++++++++++++\n",
            "Child after mutation: ['E', 'A', 'F', 'C', 'B', 'D']\n",
            "Fitness score:  0.07315264135684094\n",
            "Total distance:  13.670046377709971\n",
            "+++++++++++++++++++++++++++++++++++++++++++\n",
            "Child after mutation: ['C', 'D', 'F', 'E', 'B', 'A']\n",
            "Fitness score:  0.06439969449718064\n",
            "Total distance:  15.528023972905324\n",
            "+++++++++++++++++++++++++++++++++++++++++++\n",
            "Child after mutation: ['F', 'E', 'B', 'A', 'C', 'D']\n",
            "Fitness score:  0.06773190002874244\n",
            "Total distance:  14.764091950405113\n",
            "+++++++++++++++++++++++++++++++++++++++++++\n",
            "Child after mutation: ['C', 'F', 'D', 'B', 'E', 'A']\n",
            "Fitness score:  0.057929353968326935\n",
            "Total distance:  17.262405524956367\n",
            "+++++++++++++++++++++++++++++++++++++++++++\n",
            "Child after mutation: ['A', 'B', 'D', 'F', 'E', 'C']\n",
            "Fitness score:  0.07354965922671487\n",
            "Total distance:  13.59625606037856\n",
            "+++++++++++++++++++++++++++++++++++++++++++\n",
            "Child after mutation: ['B', 'A', 'F', 'C', 'E', 'D']\n",
            "Fitness score:  0.07373831243138208\n",
            "Total distance:  13.561471194917296\n",
            "+++++++++++++++++++++++++++++++++++++++++++\n",
            "Child after mutation: ['F', 'C', 'E', 'A', 'D', 'B']\n",
            "Fitness score:  0.06378926440894671\n",
            "Total distance:  15.676619087329465\n",
            "+++++++++++++++++++++++++++++++++++++++++++\n",
            "Child after mutation: ['A', 'E', 'D', 'F', 'C', 'B']\n",
            "Fitness score:  0.05913244546351071\n",
            "Total distance:  16.91118965504441\n",
            "+++++++++++++++++++++++++++++++++++++++++++\n",
            "Child after mutation: ['B', 'A', 'F', 'D', 'C', 'E']\n",
            "Fitness score:  0.07582880469584838\n",
            "Total distance:  13.187600727863641\n",
            "+++++++++++++++++++++++++++++++++++++++++++\n",
            "Child after mutation: ['D', 'E', 'F', 'C', 'A', 'B']\n",
            "Fitness score:  0.07196666758831272\n",
            "Total distance:  13.895321730339484\n",
            "+++++++++++++++++++++++++++++++++++++++++++\n",
            "Child after mutation: ['C', 'F', 'B', 'A', 'D', 'E']\n",
            "Fitness score:  0.07504463344815784\n",
            "Total distance:  13.325403217417506\n",
            "+++++++++++++++++++++++++++++++++++++++++++\n",
            "Child after mutation: ['C', 'A', 'E', 'F', 'B', 'D']\n"
          ]
        }
      ],
      "source": [
        "# Create an initial population\n",
        "population = initial_population()\n",
        "\n",
        "# Run generation by generation\n",
        "count = 0\n",
        "for generation in range(NUM_GENERATIONS):\n",
        "  print(\"Starting generation:\", generation)\n",
        "  new_population = []\n",
        "  for _ in range(len(population)):\n",
        "    parent1, parent2 = selection(population)\n",
        "    child = crossover(parent1, parent2)\n",
        "    child = mutation(child)\n",
        "    print(\"+++++++++++++++++++++++++++++++++++++++++++\")\n",
        "    print(\"Child after mutation:\", [x.name for x in child])\n",
        "    compute_trajectories(child)\n",
        "    new_population.append(child)\n",
        "    print(\"Fitness score: \", fitness_function(child))\n",
        "    print(\"Total distance: \", compute_total_distance(child))\n",
        "\n",
        "  population += new_population\n",
        "\n",
        "best_individual = max(population, key=fitness_function)\n",
        "\n",
        "print(\"+++++++++++++++++++++++++++++++++++++++++++\")\n",
        "print(\"Best individual:\", [x.name for x in best_individual])\n",
        "print(\"Best fitness score:\", fitness_function(best_individual))\n",
        "print(\"Total best distance: \", compute_total_distance(best_individual))\n",
        "print(\"+++++++++++++++++++++++++++++++++++++++++++\")\n"
      ]
    },
    {
      "cell_type": "markdown",
      "metadata": {
        "id": "4uXG5_q_Hbqh"
      },
      "source": [
        "## References\n",
        "- [Introduction to Genetic Algorithms. Vijini Mallawaarachchi.](https://towardsdatascience.com/introduction-to-genetic-algorithms-including-example-code-e396e98d8bf3)\n",
        "- Mykel J. Kochenderfer and Tim A. Wheeler (2019).\n",
        "Algorithms for Optimization.\n",
        "Massachusetts Institute of Technology, 148-156."
      ]
    }
  ],
  "metadata": {
    "colab": {
      "provenance": [],
      "toc_visible": true,
      "include_colab_link": true
    },
    "kernelspec": {
      "display_name": "Python 3",
      "name": "python3"
    },
    "language_info": {
      "name": "python"
    }
  },
  "nbformat": 4,
  "nbformat_minor": 0
}